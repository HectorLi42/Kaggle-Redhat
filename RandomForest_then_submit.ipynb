{
 "cells": [
  {
   "cell_type": "code",
   "execution_count": 1,
   "metadata": {
    "collapsed": true
   },
   "outputs": [],
   "source": [
    "import os\n",
    "import pandas as pd\n",
    "import numpy as np\n",
    "%matplotlib inline\n",
    "import matplotlib.pyplot as plt\n",
    "from IPython.display import display\n",
    "\n",
    "train_data = pd.read_csv('training_data.csv')\n",
    "test_data = pd.read_csv('test_data.csv')\n",
    "train_label = pd.read_csv('train_label.csv')\n",
    "\n",
    "train_data_backup = train_data.copy()\n",
    "test_data_backup = test_data.copy()\n",
    "\n",
    "### since people_id and activity_id should not be regarded as valid features\n",
    "### drop them before train a model\n",
    "train_data.drop(['people_id','activity_id'],axis=1,inplace=True)\n",
    "test_data.drop(['people_id','activity_id'],axis=1,inplace=True)"
   ]
  },
  {
   "cell_type": "code",
   "execution_count": 5,
   "metadata": {
    "collapsed": false
   },
   "outputs": [
    {
     "ename": "NameError",
     "evalue": "name 'grid_search' is not defined",
     "output_type": "error",
     "traceback": [
      "\u001b[1;31m---------------------------------------------------------------------------\u001b[0m",
      "\u001b[1;31mNameError\u001b[0m                                 Traceback (most recent call last)",
      "\u001b[1;32m<ipython-input-5-1ff3c41bd870>\u001b[0m in \u001b[0;36m<module>\u001b[1;34m()\u001b[0m\n\u001b[0;32m     20\u001b[0m \u001b[0mclf_rf\u001b[0m \u001b[1;33m=\u001b[0m \u001b[0mRandomForestClassifier\u001b[0m\u001b[1;33m(\u001b[0m\u001b[0mcriterion\u001b[0m\u001b[1;33m=\u001b[0m\u001b[1;34m'gini'\u001b[0m\u001b[1;33m,\u001b[0m\u001b[0mmax_features\u001b[0m\u001b[1;33m=\u001b[0m\u001b[1;34m'auto'\u001b[0m\u001b[1;33m,\u001b[0m\u001b[0mn_jobs\u001b[0m\u001b[1;33m=\u001b[0m\u001b[1;33m-\u001b[0m\u001b[1;36m1\u001b[0m\u001b[1;33m)\u001b[0m\u001b[1;33m\u001b[0m\u001b[0m\n\u001b[0;32m     21\u001b[0m \u001b[0mparameters\u001b[0m \u001b[1;33m=\u001b[0m \u001b[1;33m{\u001b[0m\u001b[1;34m'n_estimators'\u001b[0m\u001b[1;33m:\u001b[0m\u001b[1;33m[\u001b[0m\u001b[1;36m100\u001b[0m\u001b[1;33m,\u001b[0m\u001b[1;36m200\u001b[0m\u001b[1;33m,\u001b[0m\u001b[1;36m300\u001b[0m\u001b[1;33m]\u001b[0m\u001b[1;33m,\u001b[0m\u001b[1;34m'max_depth'\u001b[0m\u001b[1;33m:\u001b[0m\u001b[1;33m[\u001b[0m\u001b[1;36m30\u001b[0m\u001b[1;33m,\u001b[0m\u001b[1;36m50\u001b[0m\u001b[1;33m,\u001b[0m\u001b[1;36m70\u001b[0m\u001b[1;33m]\u001b[0m\u001b[1;33m}\u001b[0m\u001b[1;33m\u001b[0m\u001b[0m\n\u001b[1;32m---> 22\u001b[1;33m \u001b[0mgrid_obj\u001b[0m \u001b[1;33m=\u001b[0m \u001b[0mgrid_search\u001b[0m\u001b[1;33m.\u001b[0m\u001b[0mGridSearchCV\u001b[0m\u001b[1;33m(\u001b[0m\u001b[0mclf_rf\u001b[0m\u001b[1;33m,\u001b[0m \u001b[0mparameters\u001b[0m\u001b[1;33m,\u001b[0m\u001b[0mscoring\u001b[0m \u001b[1;33m=\u001b[0m \u001b[1;34m'roc_auc'\u001b[0m\u001b[1;33m,\u001b[0m \u001b[0mcv\u001b[0m \u001b[1;33m=\u001b[0m \u001b[1;36m10\u001b[0m\u001b[1;33m)\u001b[0m\u001b[1;33m\u001b[0m\u001b[0m\n\u001b[0m\u001b[0;32m     23\u001b[0m \u001b[0mgrid_obj\u001b[0m\u001b[1;33m.\u001b[0m\u001b[0mfit\u001b[0m\u001b[1;33m(\u001b[0m\u001b[0mX_train\u001b[0m\u001b[1;33m,\u001b[0m\u001b[0my_train\u001b[0m\u001b[1;33m)\u001b[0m\u001b[1;33m\u001b[0m\u001b[0m\n\u001b[0;32m     24\u001b[0m \u001b[1;33m\u001b[0m\u001b[0m\n",
      "\u001b[1;31mNameError\u001b[0m: name 'grid_search' is not defined"
     ]
    }
   ],
   "source": [
    "## split 25% data from train_data as validation set\n",
    "from sklearn.cross_validation import train_test_split\n",
    "\n",
    "X_train, X_val, y_train, y_val = train_test_split(train_data, train_label.outcome, test_size=0.25, random_state=144)\n",
    "\n",
    "## for tree model, no need to normalize features\n",
    "## train a basic randomforest\n",
    "\n",
    "### function to make output better look\n",
    "#roud = lambda x: round(x, 2)\n",
    "#vfunc = np.vectorize(roud)\n",
    "\n",
    "from sklearn.ensemble import RandomForestClassifier\n",
    "from sklearn.metrics import roc_auc_score,make_scorer\n",
    "from sklearn.grid_search import GridSearchCV\n",
    "\n",
    "#clf_rf_1 = RandomForestClassifier()\n",
    "#clf_rf_1.fit(X_train, y_train)\n",
    "\n",
    "clf_rf = RandomForestClassifier(criterion='gini',max_features='auto',n_jobs=-1)\n",
    "parameters = {'n_estimators':[100,200,300],'max_depth':[30,50,70]}\n",
    "grid_obj = GridSearchCV(clf_rf, parameters,scoring = 'roc_auc', cv = 10)\n",
    "grid_obj.fit(X_train,y_train)\n",
    "\n",
    "clf_rf = grid_obj.best_estimator_\n",
    "print clf.get_params()\n",
    "\n",
    "y_pred = clf_rf.predict(X_val)\n",
    "print 'auc on validation set: ',roc_auc_score(y_val,y_pred)"
   ]
  },
  {
   "cell_type": "code",
   "execution_count": 6,
   "metadata": {
    "collapsed": false
   },
   "outputs": [],
   "source": [
    "from sklearn.ensemble import RandomForestClassifier\n",
    "from sklearn.metrics import roc_auc_score,make_scorer\n",
    "from sklearn.grid_search import GridSearchCV\n",
    "\n",
    "clf_rf_2 = RandomForestClassifier(n_estimators=100, criterion='gini',max_features='auto',\n",
    "                                  max_depth=30, random_state=144, n_jobs=-1)\n",
    "clf_rf_2.fit(train_data, train_label.outcome)\n",
    "\n",
    "### function to make output better look\n",
    "roud = lambda x: round(x, 2)\n",
    "vfunc = np.vectorize(roud)\n",
    "\n",
    "predict_rf_2 = clf_rf_2.predict_proba(test_data)\n",
    "predict_rf_2 = predict_rf_2[:,1]\n",
    "predict_rf_2 = vfunc(predict_rf_2)\n",
    "\n",
    "submission = pd.DataFrame()\n",
    "submission['activity_id'] = test_data_backup.activity_id\n",
    "submission['outcome'] = predict_rf_2\n",
    "submission.to_csv(\"0827C.csv\", header=True, index=False)"
   ]
  },
  {
   "cell_type": "code",
   "execution_count": null,
   "metadata": {
    "collapsed": true
   },
   "outputs": [],
   "source": [
    "from sklearn.ensemble import RandomForestClassifier\n",
    "from sklearn.metrics import roc_auc_score,make_scorer\n",
    "from sklearn.grid_search import GridSearchCV\n",
    "\n",
    "clf_rf_2 = RandomForestClassifier(n_estimators=100, criterion='gini',max_features='auto',\n",
    "                                  max_depth=30, random_state=144, n_jobs=-1)\n",
    "clf_rf_2.fit(X_train, y_train)\n",
    "\n",
    "y_pred = clf_rf_2.predict(Xval)\n",
    "y_pred_train = clf_rf_2.predict(X_train)\n",
    "print 'aud on training set:', roc_auc_score(y_train,y_pred_train)\n",
    "print 'auc on validation set: ',roc_auc_score(y_val,y_pred)"
   ]
  },
  {
   "cell_type": "code",
   "execution_count": null,
   "metadata": {
    "collapsed": true
   },
   "outputs": [],
   "source": []
  }
 ],
 "metadata": {
  "kernelspec": {
   "display_name": "Python [Root]",
   "language": "python",
   "name": "Python [Root]"
  },
  "language_info": {
   "codemirror_mode": {
    "name": "ipython",
    "version": 2
   },
   "file_extension": ".py",
   "mimetype": "text/x-python",
   "name": "python",
   "nbconvert_exporter": "python",
   "pygments_lexer": "ipython2",
   "version": "2.7.12"
  }
 },
 "nbformat": 4,
 "nbformat_minor": 0
}
